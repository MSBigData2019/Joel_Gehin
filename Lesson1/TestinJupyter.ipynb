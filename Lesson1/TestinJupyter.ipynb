{
 "cells": [
  {
   "cell_type": "markdown",
   "metadata": {},
   "source": [
    "# My bookshell\n"
   ]
  },
  {
   "cell_type": "markdown",
   "metadata": {},
   "source": [
    "## title 1"
   ]
  },
  {
   "cell_type": "markdown",
   "metadata": {},
   "source": [
    "this is a test"
   ]
  },
  {
   "cell_type": "markdown",
   "metadata": {},
   "source": [
    "this is anoher text"
   ]
  },
  {
   "cell_type": "code",
   "execution_count": null,
   "metadata": {},
   "outputs": [],
   "source": []
  },
  {
   "cell_type": "code",
   "execution_count": null,
   "metadata": {},
   "outputs": [],
   "source": [
    "print ('Hello World')"
   ]
  },
  {
   "cell_type": "code",
   "execution_count": null,
   "metadata": {},
   "outputs": [],
   "source": []
  },
  {
   "cell_type": "code",
   "execution_count": null,
   "metadata": {},
   "outputs": [],
   "source": [
    "pip list"
   ]
  },
  {
   "cell_type": "code",
   "execution_count": null,
   "metadata": {},
   "outputs": [],
   "source": [
    "!pip list"
   ]
  },
  {
   "cell_type": "code",
   "execution_count": null,
   "metadata": {},
   "outputs": [],
   "source": [
    "!pip freeze"
   ]
  },
  {
   "cell_type": "code",
   "execution_count": null,
   "metadata": {},
   "outputs": [],
   "source": [
    "%lsmagic"
   ]
  },
  {
   "cell_type": "code",
   "execution_count": null,
   "metadata": {},
   "outputs": [],
   "source": [
    "%pwd"
   ]
  },
  {
   "cell_type": "code",
   "execution_count": null,
   "metadata": {},
   "outputs": [],
   "source": [
    "%ls"
   ]
  },
  {
   "cell_type": "code",
   "execution_count": null,
   "metadata": {},
   "outputs": [],
   "source": [
    "%ls -la"
   ]
  },
  {
   "cell_type": "code",
   "execution_count": null,
   "metadata": {},
   "outputs": [],
   "source": [
    "%matplotlib inline"
   ]
  },
  {
   "cell_type": "code",
   "execution_count": 1,
   "metadata": {},
   "outputs": [
    {
     "name": "stdout",
     "output_type": "stream",
     "text": [
      "502 µs ± 1.41 µs per loop (mean ± std. dev. of 7 runs, 1000 loops each)\n"
     ]
    }
   ],
   "source": [
    "%%timeit\n",
    "square_evens =[n*n for n in range(10000)]"
   ]
  },
  {
   "cell_type": "code",
   "execution_count": 5,
   "metadata": {},
   "outputs": [
    {
     "data": {
      "text/html": [
       "<div>\n",
       "<style scoped>\n",
       "    .dataframe tbody tr th:only-of-type {\n",
       "        vertical-align: middle;\n",
       "    }\n",
       "\n",
       "    .dataframe tbody tr th {\n",
       "        vertical-align: top;\n",
       "    }\n",
       "\n",
       "    .dataframe thead th {\n",
       "        text-align: right;\n",
       "    }\n",
       "</style>\n",
       "<table border=\"1\" class=\"dataframe\">\n",
       "  <thead>\n",
       "    <tr style=\"text-align: right;\">\n",
       "      <th></th>\n",
       "      <th>0</th>\n",
       "      <th>1</th>\n",
       "      <th>2</th>\n",
       "      <th>3</th>\n",
       "      <th>4</th>\n",
       "    </tr>\n",
       "  </thead>\n",
       "  <tbody>\n",
       "    <tr>\n",
       "      <th>0</th>\n",
       "      <td>-0.548642</td>\n",
       "      <td>-0.180311</td>\n",
       "      <td>-0.605714</td>\n",
       "      <td>0.967999</td>\n",
       "      <td>-0.859088</td>\n",
       "    </tr>\n",
       "    <tr>\n",
       "      <th>1</th>\n",
       "      <td>-0.122340</td>\n",
       "      <td>-0.075937</td>\n",
       "      <td>0.685342</td>\n",
       "      <td>0.436893</td>\n",
       "      <td>2.237216</td>\n",
       "    </tr>\n",
       "    <tr>\n",
       "      <th>2</th>\n",
       "      <td>0.679157</td>\n",
       "      <td>1.110310</td>\n",
       "      <td>0.402087</td>\n",
       "      <td>-2.294163</td>\n",
       "      <td>-1.201339</td>\n",
       "    </tr>\n",
       "    <tr>\n",
       "      <th>3</th>\n",
       "      <td>-1.082732</td>\n",
       "      <td>-1.714237</td>\n",
       "      <td>0.814485</td>\n",
       "      <td>0.221296</td>\n",
       "      <td>-0.774641</td>\n",
       "    </tr>\n",
       "    <tr>\n",
       "      <th>4</th>\n",
       "      <td>-0.258033</td>\n",
       "      <td>0.684962</td>\n",
       "      <td>-0.001456</td>\n",
       "      <td>0.202154</td>\n",
       "      <td>-0.933045</td>\n",
       "    </tr>\n",
       "    <tr>\n",
       "      <th>5</th>\n",
       "      <td>1.340412</td>\n",
       "      <td>1.044362</td>\n",
       "      <td>-1.568013</td>\n",
       "      <td>0.889990</td>\n",
       "      <td>-0.891296</td>\n",
       "    </tr>\n",
       "    <tr>\n",
       "      <th>6</th>\n",
       "      <td>-0.354152</td>\n",
       "      <td>-1.289937</td>\n",
       "      <td>0.067434</td>\n",
       "      <td>-1.641022</td>\n",
       "      <td>0.994033</td>\n",
       "    </tr>\n",
       "    <tr>\n",
       "      <th>7</th>\n",
       "      <td>0.697746</td>\n",
       "      <td>-1.403834</td>\n",
       "      <td>0.639040</td>\n",
       "      <td>-0.481228</td>\n",
       "      <td>-1.335693</td>\n",
       "    </tr>\n",
       "    <tr>\n",
       "      <th>8</th>\n",
       "      <td>-0.529477</td>\n",
       "      <td>-0.270161</td>\n",
       "      <td>0.722540</td>\n",
       "      <td>-0.245475</td>\n",
       "      <td>-0.122475</td>\n",
       "    </tr>\n",
       "    <tr>\n",
       "      <th>9</th>\n",
       "      <td>1.376984</td>\n",
       "      <td>0.919468</td>\n",
       "      <td>-0.662302</td>\n",
       "      <td>0.487817</td>\n",
       "      <td>-1.688130</td>\n",
       "    </tr>\n",
       "  </tbody>\n",
       "</table>\n",
       "</div>"
      ],
      "text/plain": [
       "          0         1         2         3         4\n",
       "0 -0.548642 -0.180311 -0.605714  0.967999 -0.859088\n",
       "1 -0.122340 -0.075937  0.685342  0.436893  2.237216\n",
       "2  0.679157  1.110310  0.402087 -2.294163 -1.201339\n",
       "3 -1.082732 -1.714237  0.814485  0.221296 -0.774641\n",
       "4 -0.258033  0.684962 -0.001456  0.202154 -0.933045\n",
       "5  1.340412  1.044362 -1.568013  0.889990 -0.891296\n",
       "6 -0.354152 -1.289937  0.067434 -1.641022  0.994033\n",
       "7  0.697746 -1.403834  0.639040 -0.481228 -1.335693\n",
       "8 -0.529477 -0.270161  0.722540 -0.245475 -0.122475\n",
       "9  1.376984  0.919468 -0.662302  0.487817 -1.688130"
      ]
     },
     "execution_count": 5,
     "metadata": {},
     "output_type": "execute_result"
    }
   ],
   "source": [
    "import pandas as pd\n",
    "import numpy as np\n",
    "df=pd.DataFrame(np.random.randn(10,5))\n",
    "df"
   ]
  },
  {
   "cell_type": "code",
   "execution_count": 6,
   "metadata": {},
   "outputs": [
    {
     "data": {
      "text/html": [
       "<div>\n",
       "<style scoped>\n",
       "    .dataframe tbody tr th:only-of-type {\n",
       "        vertical-align: middle;\n",
       "    }\n",
       "\n",
       "    .dataframe tbody tr th {\n",
       "        vertical-align: top;\n",
       "    }\n",
       "\n",
       "    .dataframe thead th {\n",
       "        text-align: right;\n",
       "    }\n",
       "</style>\n",
       "<table border=\"1\" class=\"dataframe\">\n",
       "  <thead>\n",
       "    <tr style=\"text-align: right;\">\n",
       "      <th></th>\n",
       "      <th>0</th>\n",
       "      <th>1</th>\n",
       "      <th>2</th>\n",
       "      <th>3</th>\n",
       "      <th>4</th>\n",
       "    </tr>\n",
       "  </thead>\n",
       "  <tbody>\n",
       "    <tr>\n",
       "      <th>0</th>\n",
       "      <td>-0.548642</td>\n",
       "      <td>-0.180311</td>\n",
       "      <td>-0.605714</td>\n",
       "      <td>0.967999</td>\n",
       "      <td>-0.859088</td>\n",
       "    </tr>\n",
       "    <tr>\n",
       "      <th>1</th>\n",
       "      <td>-0.122340</td>\n",
       "      <td>-0.075937</td>\n",
       "      <td>0.685342</td>\n",
       "      <td>0.436893</td>\n",
       "      <td>2.237216</td>\n",
       "    </tr>\n",
       "    <tr>\n",
       "      <th>2</th>\n",
       "      <td>0.679157</td>\n",
       "      <td>1.110310</td>\n",
       "      <td>0.402087</td>\n",
       "      <td>-2.294163</td>\n",
       "      <td>-1.201339</td>\n",
       "    </tr>\n",
       "    <tr>\n",
       "      <th>3</th>\n",
       "      <td>-1.082732</td>\n",
       "      <td>-1.714237</td>\n",
       "      <td>0.814485</td>\n",
       "      <td>0.221296</td>\n",
       "      <td>-0.774641</td>\n",
       "    </tr>\n",
       "    <tr>\n",
       "      <th>4</th>\n",
       "      <td>-0.258033</td>\n",
       "      <td>0.684962</td>\n",
       "      <td>-0.001456</td>\n",
       "      <td>0.202154</td>\n",
       "      <td>-0.933045</td>\n",
       "    </tr>\n",
       "  </tbody>\n",
       "</table>\n",
       "</div>"
      ],
      "text/plain": [
       "          0         1         2         3         4\n",
       "0 -0.548642 -0.180311 -0.605714  0.967999 -0.859088\n",
       "1 -0.122340 -0.075937  0.685342  0.436893  2.237216\n",
       "2  0.679157  1.110310  0.402087 -2.294163 -1.201339\n",
       "3 -1.082732 -1.714237  0.814485  0.221296 -0.774641\n",
       "4 -0.258033  0.684962 -0.001456  0.202154 -0.933045"
      ]
     },
     "execution_count": 6,
     "metadata": {},
     "output_type": "execute_result"
    }
   ],
   "source": [
    "df.head()"
   ]
  },
  {
   "cell_type": "code",
   "execution_count": null,
   "metadata": {},
   "outputs": [],
   "source": []
  },
  {
   "cell_type": "code",
   "execution_count": null,
   "metadata": {},
   "outputs": [],
   "source": []
  },
  {
   "cell_type": "code",
   "execution_count": null,
   "metadata": {},
   "outputs": [],
   "source": []
  },
  {
   "cell_type": "code",
   "execution_count": null,
   "metadata": {},
   "outputs": [],
   "source": []
  },
  {
   "cell_type": "code",
   "execution_count": null,
   "metadata": {},
   "outputs": [],
   "source": []
  }
 ],
 "metadata": {
  "kernelspec": {
   "display_name": "Python 3",
   "language": "python",
   "name": "python3"
  },
  "language_info": {
   "codemirror_mode": {
    "name": "ipython",
    "version": 3
   },
   "file_extension": ".py",
   "mimetype": "text/x-python",
   "name": "python",
   "nbconvert_exporter": "python",
   "pygments_lexer": "ipython3",
   "version": "3.7.0"
  }
 },
 "nbformat": 4,
 "nbformat_minor": 2
}
